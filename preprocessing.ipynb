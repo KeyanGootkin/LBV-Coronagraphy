{
 "cells": [
  {
   "cell_type": "code",
   "execution_count": 1,
   "id": "mysterious-tongue",
   "metadata": {},
   "outputs": [],
   "source": [
    "from kimport import *\n",
    "import kplot.kg\n",
    "import corona as cr\n",
    "import gootools as gt\n",
    "\n",
    "irdap_main_path = \"D:/Science/LBV/test_irdap\" "
   ]
  },
  {
   "cell_type": "code",
   "execution_count": 2,
   "id": "tribal-distance",
   "metadata": {},
   "outputs": [],
   "source": [
    "def mean_angle(angles):\n",
    "    #assume starting in degrees\n",
    "    a = np.deg2rad(angles)\n",
    "    #compute x,y components\n",
    "    y = np.mean(np.sin(a),axis=0)\n",
    "    x = np.mean(np.cos(a),axis=0)\n",
    "    #go back to angles\n",
    "    mean_angle = np.rad2deg(np.arctan2(y,x))\n",
    "    return mean_angle    "
   ]
  },
  {
   "cell_type": "markdown",
   "id": "limited-notification",
   "metadata": {},
   "source": [
    "---\n",
    "### Stacking Observations & Derotating\n",
    "---"
   ]
  },
  {
   "cell_type": "code",
   "execution_count": 3,
   "id": "logical-rover",
   "metadata": {},
   "outputs": [
    {
     "name": "stdout",
     "output_type": "stream",
     "text": [
      "\n",
      "Stacking images of AS-314\n",
      "|█████████████████████████████████████████████████████████████████████████████████████████████████   |97.1%\n",
      "Stacking images of HD-160529\n",
      "|██████████████████████████████████████████████████████████████████████████████████████████████████  |99.0%\n",
      "Stacking images of HD-168607\n",
      "|██████████████████████████████████████████████████████████████████████████████████████████████████  |98.5%\n",
      "Stacking images of HD-168625\n",
      "|█████████████████████████████████████████████████████████████████████████████████████████████████   |97.1%\n",
      "Stacking images of HD-316285\n",
      "|█████████████████████████████████████████████████████████████████████████████████████████████████   |97.1%\n",
      "Stacking images of HD-326823\n",
      "|█████████████████████████████████████████████████████████████████████████████████████████████████   |97.1%\n",
      "Stacking images of MWC-314\n",
      "|█████████████████████████████████████████████████████████████████████████████████████████████████   |97.1%\n",
      "Stacking images of ZETA-SCO\n",
      "|██████████████████████████████████████████████████████████████████████████████████████████████████  |99.0%"
     ]
    }
   ],
   "source": [
    "# initialize array to store final images\n",
    "images = list()\n",
    "errors = list()\n",
    "# cycle through each object\n",
    "for path in glob(irdap_main_path+'/*'): \n",
    "    print('\\nStacking images of {}'.format(path.split('\\\\')[-1]))\n",
    "    # grab preprocessed left and right files\n",
    "    fleft = glob(path+'/preprocessed/*left*.fits')[0]\n",
    "    fright = glob(path+'/preprocessed/*right*.fits')[0]\n",
    "    cubes = [cr.data(fleft),cr.data(fright)]\n",
    "    # cycle through each side\n",
    "    for j,cube in enumerate(cubes):\n",
    "        # grab the raw files, since those have the rotation angles\n",
    "        raw_files = np.array([f    for f in glob(path+'/raw/*OBJECT*.fits') if 'CENTER' not in f])\n",
    "        # initialize array so np._r works below\n",
    "        derotated_image = [np.zeros((1024,1024))]\n",
    "        # cycle through each frame, matching it with the observation which has its rotation angle\n",
    "        for i,(image,raw) in enumerate(zip(cube,raw_files)):\n",
    "            gt.progress_bar(j*len(raw_files)+i+1,2*len(raw_files))\n",
    "            header = cr.header(raw)\n",
    "            angle = mean_angle(np.array([float(header['HIERARCH ESO TEL PARANG START']),float(header['HIERARCH ESO TEL PARANG END'])])) + cr.true_north_correction + cr.pupil_offset\n",
    "            new_image = rotate(image,-1*angle,reshape=False)\n",
    "            derotated_image = np.r_[derotated_image,[new_image]]\n",
    "    d = np.mean(derotated_image[1:],axis=0)\n",
    "    e = np.std(derotated_image[1:],axis=0)\n",
    "    images.append(d)\n",
    "    errors.append(e)"
   ]
  },
  {
   "cell_type": "markdown",
   "id": "headed-grove",
   "metadata": {},
   "source": [
    "Save to file"
   ]
  },
  {
   "cell_type": "code",
   "execution_count": 4,
   "id": "educational-briefs",
   "metadata": {},
   "outputs": [],
   "source": [
    "for image,error,name in zip(images,errors,cr.targets):\n",
    "    np.savetxt('data/{}.txt'.format(name),image,delimiter=',')\n",
    "    np.savetxt('data/{}_error.txt'.format(name),error,delimiter=',')"
   ]
  },
  {
   "cell_type": "markdown",
   "id": "limited-brain",
   "metadata": {},
   "source": [
    "---"
   ]
  }
 ],
 "metadata": {
  "kernelspec": {
   "display_name": "Python 3",
   "language": "python",
   "name": "python3"
  },
  "language_info": {
   "codemirror_mode": {
    "name": "ipython",
    "version": 3
   },
   "file_extension": ".py",
   "mimetype": "text/x-python",
   "name": "python",
   "nbconvert_exporter": "python",
   "pygments_lexer": "ipython3",
   "version": "3.9.1"
  }
 },
 "nbformat": 4,
 "nbformat_minor": 5
}
