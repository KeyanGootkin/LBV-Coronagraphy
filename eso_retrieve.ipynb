{
 "cells": [
  {
   "cell_type": "code",
   "execution_count": 8,
   "metadata": {},
   "outputs": [
    {
     "name": "stdin",
     "output_type": "stream",
     "text": [
      "Hello my friend! Where do you want me to put all them there files?? (ie. C:/Users/Keyan/Desktop/) c\n"
     ]
    },
    {
     "ename": "ValueError",
     "evalue": "Remember to put a / at the end of the directory name please !!",
     "output_type": "error",
     "traceback": [
      "\u001b[1;31m---------------------------------------------------------------------------\u001b[0m",
      "\u001b[1;31mValueError\u001b[0m                                Traceback (most recent call last)",
      "\u001b[1;32m<ipython-input-8-53551e80dc56>\u001b[0m in \u001b[0;36m<module>\u001b[1;34m()\u001b[0m\n\u001b[0;32m     10\u001b[0m \u001b[0mdatadir\u001b[0m \u001b[1;33m=\u001b[0m \u001b[0minput\u001b[0m\u001b[1;33m(\u001b[0m\u001b[1;34m\"Hello my friend! Where do you want me to put all them there files?? (ie. C:/Users/Keyan/Desktop/)\"\u001b[0m\u001b[1;33m)\u001b[0m\u001b[1;33m\u001b[0m\u001b[0m\n\u001b[0;32m     11\u001b[0m \u001b[1;32mif\u001b[0m \u001b[0mdatadir\u001b[0m\u001b[1;33m[\u001b[0m\u001b[1;33m-\u001b[0m\u001b[1;36m1\u001b[0m\u001b[1;33m]\u001b[0m\u001b[1;33m!=\u001b[0m\u001b[1;34m'/'\u001b[0m\u001b[1;33m:\u001b[0m\u001b[1;33m\u001b[0m\u001b[0m\n\u001b[1;32m---> 12\u001b[1;33m     \u001b[1;32mraise\u001b[0m \u001b[0mValueError\u001b[0m\u001b[1;33m(\u001b[0m\u001b[1;34m\"Remember to put a / at the end of the directory name please !!\"\u001b[0m\u001b[1;33m)\u001b[0m\u001b[1;33m\u001b[0m\u001b[0m\n\u001b[0m",
      "\u001b[1;31mValueError\u001b[0m: Remember to put a / at the end of the directory name please !!"
     ]
    }
   ],
   "source": [
    "from astroquery.eso import Eso\n",
    "from pyvo.dal import tap\n",
    "import urllib\n",
    "import gootools as gt\n",
    "from astropy.io import fits\n",
    "import os\n",
    "import shutil\n",
    "from glob import glob\n",
    "alldir='D:/Science/LBV/Data/new_download/'\n",
    "datadir = input(\"Hello my friend! Where do you want me to put all them there files?? (ie. C:/Users/Keyan/Desktop/)\")\n",
    "if datadir[-1]!='/':\n",
    "    raise ValueError(\"Remember to put a / at the end of the directory name please !!\")"
   ]
  },
  {
   "cell_type": "code",
   "execution_count": 7,
   "metadata": {},
   "outputs": [
    {
     "name": "stdin",
     "output_type": "stream",
     "text": [
      "Hi Jamie! How many files do you want me to grab? (out of 355)\n",
      " 0\n"
     ]
    },
    {
     "ename": "NameError",
     "evalue": "name 'Error' is not defined",
     "output_type": "error",
     "traceback": [
      "\u001b[1;31m---------------------------------------------------------------------------\u001b[0m",
      "\u001b[1;31mNameError\u001b[0m                                 Traceback (most recent call last)",
      "\u001b[1;32m<ipython-input-7-b4f6b7782cf9>\u001b[0m in \u001b[0;36m<module>\u001b[1;34m()\u001b[0m\n\u001b[0;32m      8\u001b[0m \u001b[1;33m\u001b[0m\u001b[0m\n\u001b[0;32m      9\u001b[0m \u001b[1;32mif\u001b[0m \u001b[0mdatadir\u001b[0m\u001b[1;33m[\u001b[0m\u001b[1;33m-\u001b[0m\u001b[1;36m1\u001b[0m\u001b[1;33m]\u001b[0m\u001b[1;33m!=\u001b[0m\u001b[1;34m'/'\u001b[0m\u001b[1;33m:\u001b[0m\u001b[1;33m\u001b[0m\u001b[0m\n\u001b[1;32m---> 10\u001b[1;33m     \u001b[1;32mraise\u001b[0m \u001b[0mError\u001b[0m\u001b[1;33m(\u001b[0m\u001b[1;34m\"Remember to put a / at the end of the directory name please !!\"\u001b[0m\u001b[1;33m)\u001b[0m\u001b[1;33m\u001b[0m\u001b[0m\n\u001b[0m\u001b[0;32m     11\u001b[0m \u001b[1;33m\u001b[0m\u001b[0m\n\u001b[0;32m     12\u001b[0m query=\"\"\"SELECT TOP %d ob_name, dp_type, mjd_obs, dp_id \n",
      "\u001b[1;31mNameError\u001b[0m: name 'Error' is not defined"
     ]
    }
   ],
   "source": [
    "ESO_TAP_OBS = \"http://archive.eso.org/tap_obs\"\n",
    "tapobs = tap.TAPService(ESO_TAP_OBS)\n",
    "\n",
    "try:\n",
    "    N=int(input(\"Hi Jamie! How many files do you want me to grab? (out of 355)\\n\"))\n",
    "except:\n",
    "    raise TypeError(\"Sorry friend, I don't think you gave me an integer :(\")\n",
    "    \n",
    "query=\"\"\"SELECT TOP %d ob_name, dp_type, mjd_obs, dp_id \n",
    "from dbo.raw\n",
    "where prog_id = '0101.D-0064(A)'\"\"\" % (N)\n",
    "res = tapobs.search(query=query)"
   ]
  },
  {
   "cell_type": "code",
   "execution_count": 3,
   "metadata": {},
   "outputs": [
    {
     "name": "stdout",
     "output_type": "stream",
     "text": [
      "|████████████████████████████████████████████████████████████████████████████████████████████████████|100.0%"
     ]
    }
   ],
   "source": [
    "nfiles = 0\n",
    "gt.progress_bar(0,1,width=100)\n",
    "for row in res:\n",
    "    nfiles += 1\n",
    "    destination= datadir+row[\"ob_name\"].decode()+'.'+row['dp_type'].decode()+str(nfiles)+'.fits'\n",
    "    download_url = \"http://archive.eso.org/datalink/links?ID=ivo://eso.org/ID?%s&eso_download=file\" % row[\"dp_id\"].decode()\n",
    "    urllib.request.urlretrieve(download_url,filename=destination)\n",
    "    gt.progress_bar(nfiles,len(res),width=100)"
   ]
  },
  {
   "cell_type": "markdown",
   "metadata": {},
   "source": [
    "________________________________________________________________________"
   ]
  }
 ],
 "metadata": {
  "kernelspec": {
   "display_name": "Python 3",
   "language": "python",
   "name": "python3"
  },
  "language_info": {
   "codemirror_mode": {
    "name": "ipython",
    "version": 3
   },
   "file_extension": ".py",
   "mimetype": "text/x-python",
   "name": "python",
   "nbconvert_exporter": "python",
   "pygments_lexer": "ipython3",
   "version": "3.6.5"
  }
 },
 "nbformat": 4,
 "nbformat_minor": 2
}
