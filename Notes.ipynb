{
 "cells": [
  {
   "cell_type": "markdown",
   "metadata": {},
   "source": [
    "# ***LBV Coronagraphy***\n",
    "----"
   ]
  },
  {
   "cell_type": "markdown",
   "metadata": {},
   "source": [
    "## Meeting Notes\n",
    "Difference between $\\alpha$ Cygni variables and LBVs? ie Saio 2013"
   ]
  },
  {
   "cell_type": "markdown",
   "metadata": {},
   "source": [
    "### Data Notes\n",
    "##### Filters\n",
    "- BB_H means that one side goes through B_H, other is Clear? or maybe also B_H?"
   ]
  },
  {
   "cell_type": "markdown",
   "metadata": {},
   "source": [
    "## __Calibrations__\n",
    "----"
   ]
  },
  {
   "cell_type": "markdown",
   "metadata": {},
   "source": [
    "* Are there calibrations for every day that there is data?\n",
    "    - There should be, should probably only use relevent day's calibrations (but if its bad taking the median wouldn't be the worst)\n",
    "* Should I keep the different days seperate or median them?"
   ]
  },
  {
   "cell_type": "markdown",
   "metadata": {},
   "source": [
    "### DARK"
   ]
  },
  {
   "cell_type": "markdown",
   "metadata": {},
   "source": [
    "### FLAT"
   ]
  },
  {
   "cell_type": "markdown",
   "metadata": {},
   "source": [
    "### OBJECT"
   ]
  },
  {
   "cell_type": "markdown",
   "metadata": {},
   "source": [
    "## __Stars__\n",
    "----"
   ]
  },
  {
   "cell_type": "markdown",
   "metadata": {},
   "source": [
    "### AS 314"
   ]
  },
  {
   "cell_type": "markdown",
   "metadata": {},
   "source": [
    "### HD 160529"
   ]
  },
  {
   "cell_type": "markdown",
   "metadata": {},
   "source": [
    "### HD 168607"
   ]
  },
  {
   "cell_type": "markdown",
   "metadata": {},
   "source": [
    "### HD 168625"
   ]
  },
  {
   "cell_type": "markdown",
   "metadata": {},
   "source": [
    "### HD 316285"
   ]
  },
  {
   "cell_type": "markdown",
   "metadata": {},
   "source": [
    "### HD 326823"
   ]
  },
  {
   "cell_type": "markdown",
   "metadata": {},
   "source": [
    "### MWC 314"
   ]
  },
  {
   "cell_type": "markdown",
   "metadata": {},
   "source": [
    "### $\\zeta$01 Sco"
   ]
  },
  {
   "cell_type": "markdown",
   "metadata": {},
   "source": [
    "# Fits Headers\n",
    "---"
   ]
  },
  {
   "cell_type": "markdown",
   "metadata": {},
   "source": [
    "##### HIERARCH ESO DET ADC2 FILTER\n",
    "0 = 0.5$\\mu$s  1 = 5$\\mu$s"
   ]
  },
  {
   "cell_type": "markdown",
   "metadata": {},
   "source": [
    "##### HIERARCH ESO DET CHIP1 TYPE\n",
    "IR"
   ]
  },
  {
   "cell_type": "markdown",
   "metadata": {},
   "source": [
    "##### Extend\n",
    "True or False, whether a fits extension is present     ***whats an extension tho?***"
   ]
  },
  {
   "cell_type": "markdown",
   "metadata": {},
   "source": [
    "##### SIMPLE\n",
    "True or False, whether or not this is a standard fits files"
   ]
  },
  {
   "cell_type": "markdown",
   "metadata": {},
   "source": [
    "##### BITPIX\n",
    "number of bits per pixel value"
   ]
  },
  {
   "cell_type": "markdown",
   "metadata": {},
   "source": [
    "##### NAXIS\n",
    "number of axes total"
   ]
  },
  {
   "cell_type": "markdown",
   "metadata": {},
   "source": [
    "##### NAXIS 1/2/3 ...\n",
    "the dimension of axis 1,2,3 ect."
   ]
  },
  {
   "cell_type": "markdown",
   "metadata": {},
   "source": [
    "##### BZERO, BSCALE, BUNIT\n",
    "Pixel = FITS * BSCALE + BZERO,     pixel values are converted from number of electrons to adu, which is just a number that makes sense instead of electrons"
   ]
  },
  {
   "cell_type": "markdown",
   "metadata": {},
   "source": [
    "##### ORIGIN\n",
    "The observatory should be \"ESO-PARANAL\""
   ]
  },
  {
   "cell_type": "markdown",
   "metadata": {},
   "source": [
    "##### DATE,DATE-OBS\n",
    "Date written 'YYYY-MM-DDTHH:MM:SS.SSSS', date=file written, date-obs=time of observation"
   ]
  },
  {
   "cell_type": "markdown",
   "metadata": {},
   "source": [
    "##### TELESCOP\n",
    "The telescope"
   ]
  },
  {
   "cell_type": "markdown",
   "metadata": {},
   "source": [
    "##### INSTRUME\n",
    "name of instrument, should be \"SPHERE   \""
   ]
  },
  {
   "cell_type": "markdown",
   "metadata": {},
   "source": [
    "##### OBJECT\n",
    "Target!"
   ]
  },
  {
   "cell_type": "markdown",
   "metadata": {},
   "source": [
    "##### RA,DEC\n",
    "degrees, where pointing. HH:MM:SS.S are in comment"
   ]
  },
  {
   "cell_type": "markdown",
   "metadata": {},
   "source": [
    "##### EQUINOX\n",
    "god i hope i don't have to remember what this is"
   ]
  },
  {
   "cell_type": "markdown",
   "metadata": {},
   "source": [
    "##### RADECSYS\n",
    "the ra and dec coordinates"
   ]
  },
  {
   "cell_type": "markdown",
   "metadata": {},
   "source": [
    "##### EXPTIME\n",
    "exposure time in seconds"
   ]
  },
  {
   "cell_type": "markdown",
   "metadata": {},
   "source": [
    "##### MJD-OBS\n",
    "mjd! has date in the comment"
   ]
  },
  {
   "cell_type": "markdown",
   "metadata": {},
   "source": [
    "##### UTC,LST\n",
    "seconds time of observation"
   ]
  },
  {
   "cell_type": "markdown",
   "metadata": {},
   "source": [
    "##### PI-COI\n",
    "Jamie, Emily, Henny"
   ]
  },
  {
   "cell_type": "markdown",
   "metadata": {},
   "source": [
    "##### CTYPE1,2,3\n",
    "pixel coordinate system, should be pixel"
   ]
  },
  {
   "cell_type": "markdown",
   "metadata": {},
   "source": [
    "##### CRPIX1,2,3\n",
    "I think this is the value of the refrence pixel in each axis"
   ]
  },
  {
   "cell_type": "markdown",
   "metadata": {},
   "source": [
    "##### CRVAL1,2,3\n",
    "I think this is which pixel the reference pixel is"
   ]
  },
  {
   "cell_type": "markdown",
   "metadata": {},
   "source": [
    "##### CD1,2_1,2\n",
    "matrix element to transform from one axis to the other"
   ]
  },
  {
   "cell_type": "markdown",
   "metadata": {},
   "source": [
    "##### ORIGFILE, ARCFILE\n",
    "the name given to the file by the observatory or archive or whatevs"
   ]
  },
  {
   "cell_type": "markdown",
   "metadata": {},
   "source": [
    "##### HIERARCH ESO ADA ABSROT START,END,PPOS\n",
    "The absolute rotation angle of the [Adaptor](https://www.eso.org/sci/facilities/lasilla/instruments/efosc/inst/Adaptor.html#Orientation) at start/end of exposure, in degrees, and sign "
   ]
  },
  {
   "cell_type": "markdown",
   "metadata": {},
   "source": [
    "##### HIERARCH ESO ADA GUID DEC,RA,STATUS\n",
    "the position of the guide star and if it is on"
   ]
  },
  {
   "cell_type": "markdown",
   "metadata": {},
   "source": [
    "##### HIERARCH ESO ADA POSANG\n",
    "position angle of [adaptor](https://www.eso.org/sci/facilities/lasilla/instruments/efosc/inst/Adaptor.html#Orientation) at start"
   ]
  },
  {
   "cell_type": "markdown",
   "metadata": {},
   "source": [
    "##### HIERARCH ESO AOS GARBCOL MODE\n",
    "Whether or not SPARTA Garbage Collection is on, ***wtf is this***"
   ]
  },
  {
   "cell_type": "markdown",
   "metadata": {},
   "source": [
    "##### HIERARCH ESO INS COMB ICOR\n",
    "IR coronagraph combination name"
   ]
  },
  {
   "cell_type": "markdown",
   "metadata": {},
   "source": [
    "##### HIERARCH ESO INS COMB IFLT\n",
    "IR filter combination name"
   ]
  },
  {
   "cell_type": "markdown",
   "metadata": {},
   "source": [
    "##### HIERARCH ESO INS COMB VCOR\n",
    "visible coronagraph combination name"
   ]
  },
  {
   "cell_type": "markdown",
   "metadata": {},
   "source": [
    "##### HIERARCH ESO INS1 FILT NAME\n",
    "Filter name in channel one"
   ]
  },
  {
   "cell_type": "markdown",
   "metadata": {},
   "source": [
    "##### HIERARCH ESO INS1 OPTI1 NAME\n",
    "Lyot stop"
   ]
  }
 ],
 "metadata": {
  "kernelspec": {
   "display_name": "Python 3",
   "language": "python",
   "name": "python3"
  },
  "language_info": {
   "codemirror_mode": {
    "name": "ipython",
    "version": 3
   },
   "file_extension": ".py",
   "mimetype": "text/x-python",
   "name": "python",
   "nbconvert_exporter": "python",
   "pygments_lexer": "ipython3",
   "version": "3.9.1"
  }
 },
 "nbformat": 4,
 "nbformat_minor": 4
}
